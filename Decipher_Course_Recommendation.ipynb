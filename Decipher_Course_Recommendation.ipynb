{
 "cells": [
  {
   "cell_type": "code",
   "execution_count": 1,
   "metadata": {
    "colab": {},
    "colab_type": "code",
    "id": "blpCkvRgY1kN"
   },
   "outputs": [],
   "source": [
    "#Importing the necessary libraries\n",
    "import json\n",
    "import numpy as np\n",
    "import pandas as pd"
   ]
  },
  {
   "cell_type": "code",
   "execution_count": 3,
   "metadata": {
    "colab": {},
    "colab_type": "code",
    "id": "6v0TspREZ_KF"
   },
   "outputs": [],
   "source": [
    "#Reading the json file's\n",
    "import json\n",
    "\n",
    "with open('students.json',encoding='utf8') as f:\n",
    "  data = json.load(f)\n",
    "\n",
    "with open('class_details.json',encoding='utf8') as f:\n",
    "  class_details = json.load(f)\n",
    "\n",
    "\n",
    "with open('course_enrollments.json',encoding='utf8') as f:\n",
    "  course_enrollment = json.load(f)\n",
    "\n"
   ]
  },
  {
   "cell_type": "code",
   "execution_count": 4,
   "metadata": {
    "colab": {},
    "colab_type": "code",
    "id": "gboJGehzaGDE"
   },
   "outputs": [],
   "source": [
    "Different_super_groups=[]  # A list to contain all the different supergroups"
   ]
  },
  {
   "cell_type": "code",
   "execution_count": 5,
   "metadata": {
    "colab": {},
    "colab_type": "code",
    "id": "LbzuN4WgaeQc"
   },
   "outputs": [],
   "source": [
    "# To find all the different supergroups in which students are enrolled\n",
    "for i in range(0,10000):\n",
    "  try:\n",
    "    for k in data[i]['target_super_groups']:\n",
    "      Different_super_groups.append(k['title'][0]['value'])\n",
    "  except:\n",
    "    continue"
   ]
  },
  {
   "cell_type": "code",
   "execution_count": 6,
   "metadata": {
    "colab": {},
    "colab_type": "code",
    "id": "AEyhb0B6axtB"
   },
   "outputs": [],
   "source": [
    "# To print only the unique elements of a list\n",
    "def unique(list1): \n",
    "    x = np.array(list1) \n",
    "    print(np.unique(x)) \n",
    "      "
   ]
  },
  {
   "cell_type": "code",
   "execution_count": 7,
   "metadata": {
    "colab": {
     "base_uri": "https://localhost:8080/",
     "height": 84
    },
    "colab_type": "code",
    "id": "WSTiyDoZbInb",
    "outputId": "080dbf5c-53dc-4bfd-e849-ba1d0a296bfb"
   },
   "outputs": [
    {
     "name": "stdout",
     "output_type": "stream",
     "text": [
      "['Banking Exams' 'Defence Exams' 'Engineering Recruitment Exams'\n",
      " 'Insurance Exams' 'Other Govt. Exams' 'Police Exams'\n",
      " 'Professional Skills' 'Railways Exams' 'SSC Exams' 'State Govt. Exams'\n",
      " 'Teaching Exams']\n"
     ]
    }
   ],
   "source": [
    "unique(Different_super_groups) # The Different supergroups we have"
   ]
  },
  {
   "cell_type": "code",
   "execution_count": 8,
   "metadata": {
    "colab": {},
    "colab_type": "code",
    "id": "wQ0ExHwobOZZ"
   },
   "outputs": [],
   "source": [
    "#Different lists to store the students enrolled in different supergroups\n",
    "Defence_Exams=[]\n",
    "Engineering_Recruitment_Exams=[]\n",
    "Insurance_Exams=[]\n",
    "Other_Govt_Exams=[]\n",
    "Police_Exams=[]\n",
    "Professional_Skills=[]\n",
    "Railways_Exams=[]\n",
    "SSC_Exams=[]\n",
    "State_Govt_Exams=[]\n",
    "Teaching_Exams=[]\n",
    "Banking_Exams=[]"
   ]
  },
  {
   "cell_type": "code",
   "execution_count": 9,
   "metadata": {
    "colab": {},
    "colab_type": "code",
    "id": "YZ9Gg-QOc0Dg"
   },
   "outputs": [],
   "source": [
    "# If else condition to appends the students in the list in which supergoup they are enrolled\n",
    "for i in range(0,10000):\n",
    "  try:\n",
    "    for k in data[i]['target_super_groups']:\n",
    "      if(k['title'][0]['value']== 'Banking Exams'):\n",
    "        Banking_Exams.append(data[i]['sid'])\n",
    "      if(k['title'][0]['value']== 'Defence Exams'):\n",
    "        Defence_Exams.append(data[i]['sid'])\n",
    "      if(k['title'][0]['value']== 'Engineering Recruitment Exams'):\n",
    "        Engineering_Recruitment_Exams.append(data[i]['sid'])\n",
    "      if(k['title'][0]['value']== 'Insurance Exams'):\n",
    "        Insurance_Exams.append(data[i]['sid'])\n",
    "      if(k['title'][0]['value']== 'Other Govt. Exams'):\n",
    "        Other_Govt_Exams.append(data[i]['sid'])\n",
    "      if(k['title'][0]['value']== 'Police Exams'):\n",
    "        Police_Exams.append(data[i]['sid'])\n",
    "      if(k['title'][0]['value']== 'Professional Skills'):\n",
    "        Professional_Skills.append(data[i]['sid'])\n",
    "      if(k['title'][0]['value']== 'Railways Exams'):\n",
    "        Railways_Exams.append(data[i]['sid'])\n",
    "      if(k['title'][0]['value']== 'SSC Exams'):\n",
    "        SSC_Exams.append(data[i]['sid'])\n",
    "      if(k['title'][0]['value']== 'State Govt. Exams'):\n",
    "        State_Govt_Exams.append(data[i]['sid'])\n",
    "      if(k['title'][0]['value']== 'Teaching Exams'):\n",
    "        Teaching_Exams.append(data[i]['sid'])\n",
    "  except:\n",
    "    continue"
   ]
  },
  {
   "cell_type": "code",
   "execution_count": 10,
   "metadata": {
    "colab": {},
    "colab_type": "code",
    "id": "EU0KM3ySdzEP"
   },
   "outputs": [],
   "source": [
    "\n",
    "# List to store all the courses to the supergroup for which they are for\n",
    "Defence_Exams_course=[]\n",
    "Engineering_Recruitment_Exams_course=[]\n",
    "Insurance_Exams_course=[]\n",
    "Other_Govt_Exams_course=[]\n",
    "Police_Exams_course=[]\n",
    "Professional_Skills_course=[]\n",
    "Railways_Exams_course=[]\n",
    "SSC_Exams_course=[]\n",
    "State_Govt_Exams_course=[]\n",
    "Teaching_Exams_course=[]\n",
    "Banking_Exams_course=[]"
   ]
  },
  {
   "cell_type": "code",
   "execution_count": 11,
   "metadata": {
    "colab": {},
    "colab_type": "code",
    "id": "YNfePPqIeQIL"
   },
   "outputs": [],
   "source": [
    "All_courses=[] #list to store all the courses"
   ]
  },
  {
   "cell_type": "code",
   "execution_count": 12,
   "metadata": {
    "colab": {},
    "colab_type": "code",
    "id": "WOTF2Ys9ea4A"
   },
   "outputs": [],
   "source": [
    "#To store all the courses\n",
    "for i in range(0,90):\n",
    "  All_courses.append(class_details[i]['class_id'])"
   ]
  },
  {
   "cell_type": "code",
   "execution_count": 13,
   "metadata": {
    "colab": {},
    "colab_type": "code",
    "id": "lTb9cKq0e5j9"
   },
   "outputs": [],
   "source": [
    "Different_super_groups_course=[]"
   ]
  },
  {
   "cell_type": "code",
   "execution_count": 14,
   "metadata": {
    "colab": {},
    "colab_type": "code",
    "id": "RuOaF9ACex_o"
   },
   "outputs": [],
   "source": [
    "# To find all the super groups for which we have course \n",
    "for i in range(0,90):\n",
    "  try:\n",
    "    for k in class_details[i]['target_super_group']:\n",
    "      Different_super_groups_course.append(k['title'][0]['value'])\n",
    "  except:\n",
    "    continue"
   ]
  },
  {
   "cell_type": "code",
   "execution_count": 15,
   "metadata": {
    "colab": {
     "base_uri": "https://localhost:8080/",
     "height": 67
    },
    "colab_type": "code",
    "id": "_Mk1vsQjfmro",
    "outputId": "c197265f-4cdd-4d65-a3fb-92b983abf7b1"
   },
   "outputs": [
    {
     "name": "stdout",
     "output_type": "stream",
     "text": [
      "['Banking Exams' 'Defence Exams' 'Engineering Recruitment Exams'\n",
      " 'Insurance Exams' 'Police Exams' 'Professional Skills' 'Railways Exams'\n",
      " 'SSC Exams' 'State Govt. Exams']\n"
     ]
    }
   ],
   "source": [
    "unique(Different_super_groups_course)"
   ]
  },
  {
   "cell_type": "code",
   "execution_count": 16,
   "metadata": {
    "colab": {},
    "colab_type": "code",
    "id": "wQtPJ3gtd-3h"
   },
   "outputs": [],
   "source": [
    "# If else to store different courses they are for\n",
    "for i in range(0,90):\n",
    "  try:\n",
    "    for k in class_details[i]['target_super_group']:\n",
    "      if(k['title'][0]['value']== 'Banking Exams'):\n",
    "        Banking_Exams_course.append(class_details[i]['class_id'])\n",
    "      if(k['title'][0]['value']== 'Defence Exams'):\n",
    "        Defence_Exams_course.append(class_details[i]['class_id'])\n",
    "      if(k['title'][0]['value']== 'Engineering Recruitment Exams'):\n",
    "        Engineering_Recruitment_Exams_course.append(class_details[i]['class_id'])\n",
    "      if(k['title'][0]['value']== 'Insurance Exams'):\n",
    "        Insurance_Exams_course.append(class_details[i]['class_id'])\n",
    "      if(k['title'][0]['value']== 'Other Govt. Exams'):\n",
    "        Other_Govt_Exams_course.append(class_details[i]['class_id'])\n",
    "      if(k['title'][0]['value']== 'Police Exams'):\n",
    "        Police_Exams_course.append(class_details[i]['class_id'])\n",
    "      if(k['title'][0]['value']== 'Professional Skills'):\n",
    "        Professional_Skills_course.append(class_details[i]['class_id'])\n",
    "      if(k['title'][0]['value']== 'Railways Exams'):\n",
    "        Railways_Exams_course.append(class_details[i]['class_id'])\n",
    "      if(k['title'][0]['value']== 'SSC Exams'):\n",
    "        SSC_Exams_course.append(class_details[i]['class_id'])\n",
    "      if(k['title'][0]['value']== 'State Govt. Exams'):\n",
    "        State_Govt_Exams_course.append(class_details[i]['class_id'])\n",
    "      if(k['title'][0]['value']== 'Teaching Exams'):\n",
    "        Teaching_Exams_course.append(class_details[i]['class_id'])\n",
    "  except:\n",
    "    continue"
   ]
  },
  {
   "cell_type": "code",
   "execution_count": 17,
   "metadata": {
    "colab": {},
    "colab_type": "code",
    "id": "qTE86Abmfq6B"
   },
   "outputs": [],
   "source": [
    "courses_taken=[] #To store all the courses taken by the students"
   ]
  },
  {
   "cell_type": "code",
   "execution_count": 18,
   "metadata": {
    "colab": {},
    "colab_type": "code",
    "id": "r3IJ8f6wee3M"
   },
   "outputs": [],
   "source": [
    "# To store the courses taken in the list\n",
    "for i in range(0,10000):\n",
    "  try:\n",
    "    for k in course_enrollment[i]['enrolled_courses']:\n",
    "      courses_taken.append(k)\n",
    "  except:\n",
    "    continue"
   ]
  },
  {
   "cell_type": "code",
   "execution_count": 19,
   "metadata": {
    "colab": {},
    "colab_type": "code",
    "id": "mDpTajb1gult"
   },
   "outputs": [],
   "source": [
    "Defence_course_count=[]\n",
    "Engineering_Recruitment_course_count=[]\n",
    "Insurance_course_count=[]\n",
    "Other_Govt_course_count=[]\n",
    "Police_course_count=[]\n",
    "Professional_Skills_course_count=[]\n",
    "Railways_course_count=[]\n",
    "SSC_course_count=[]\n",
    "State_Govt_course_count=[]\n",
    "Teaching_course_count=[]\n",
    "Banking_course_count=[]"
   ]
  },
  {
   "cell_type": "code",
   "execution_count": 20,
   "metadata": {
    "colab": {},
    "colab_type": "code",
    "id": "dBlqq5QcoCR9"
   },
   "outputs": [],
   "source": [
    "All_courses_count=[]  #To count for all the courses"
   ]
  },
  {
   "cell_type": "code",
   "execution_count": 21,
   "metadata": {
    "colab": {},
    "colab_type": "code",
    "id": "oVAj0NoJhYbg"
   },
   "outputs": [],
   "source": [
    "# To count number of times each course has been taken to set the priority\n",
    "for j in Defence_Exams_course:\n",
    "  Defence_course_count.append(courses_taken.count(j))\n",
    "\n",
    "for j in Engineering_Recruitment_Exams_course:\n",
    "  Engineering_Recruitment_course_count.append(courses_taken.count(j))\n",
    "\n",
    "for j in Insurance_Exams_course:\n",
    "  Insurance_course_count.append(courses_taken.count(j))\n",
    "\n",
    "for j in Other_Govt_Exams_course:\n",
    "  Other_Govt_course_count.append(courses_taken.count(j))\n",
    "\n",
    "for j in Police_Exams_course:\n",
    "  Police_course_count.append(courses_taken.count(j))                                 \n",
    "\n",
    "for j in Professional_Skills_course:\n",
    "  Professional_Skills_course_count.append(courses_taken.count(j))\n",
    "\n",
    "for j in Railways_Exams_course:\n",
    "  Railways_course_count.append(courses_taken.count(j))\n",
    "\n",
    "for j in SSC_Exams_course:\n",
    "  SSC_course_count.append(courses_taken.count(j))\n",
    "\n",
    "for j in State_Govt_Exams_course:\n",
    "  State_Govt_course_count.append(courses_taken.count(j))\n",
    "\n",
    "\n",
    "for j in Teaching_Exams_course:\n",
    "  Teaching_course_count.append(courses_taken.count(j))\n",
    "\n",
    "for j in Banking_Exams_course:\n",
    "  Banking_course_count.append(courses_taken.count(j))"
   ]
  },
  {
   "cell_type": "code",
   "execution_count": 22,
   "metadata": {
    "colab": {},
    "colab_type": "code",
    "id": "T6AbuHRTnspG"
   },
   "outputs": [],
   "source": [
    "for j in All_courses:\n",
    "  All_courses_count.append(courses_taken.count(j))"
   ]
  },
  {
   "cell_type": "code",
   "execution_count": 23,
   "metadata": {
    "colab": {},
    "colab_type": "code",
    "id": "L4dhih5Njwb1"
   },
   "outputs": [],
   "source": [
    "\n",
    "Defence_Exams_course = pd.DataFrame({'All_courses':Defence_Exams_course,'Count':Defence_course_count})\n",
    "Engineering_Recruitment_Exams_course = pd.DataFrame({'All_courses':Engineering_Recruitment_Exams_course,'Count':Engineering_Recruitment_course_count})\n",
    "Insurance_Exams_course = pd.DataFrame({'All_courses':Insurance_Exams_course,'Count':Insurance_course_count})\n",
    "Other_Govt_Exams_course = pd.DataFrame({'All_courses':Other_Govt_Exams_course,'Count':Other_Govt_course_count})\n",
    "Police_Exams_course = pd.DataFrame({'All_courses':Police_Exams_course,'Count':Police_course_count})\n",
    "Professional_Skills_course = pd.DataFrame({'All_courses':Professional_Skills_course,'Count':Professional_Skills_course_count})\n",
    "Railways_Exams_course= pd.DataFrame({'All_courses':Railways_Exams_course,'Count':Railways_course_count})\n",
    "SSC_Exams_course = pd.DataFrame({'All_courses':SSC_Exams_course,'Count':SSC_course_count})\n",
    "State_Govt_Exams_course = pd.DataFrame({'All_courses':State_Govt_Exams_course,'Count':State_Govt_course_count})\n",
    "Teaching_Exams_course = pd.DataFrame({'All_courses':Teaching_Exams_course,'Count':Teaching_course_count})\n",
    "Banking_Exams_course = pd.DataFrame({'All_courses':Banking_Exams_course,'Count':Banking_course_count})"
   ]
  },
  {
   "cell_type": "code",
   "execution_count": 24,
   "metadata": {
    "colab": {},
    "colab_type": "code",
    "id": "0Q7VbzOXo17z"
   },
   "outputs": [],
   "source": [
    "All_courses = pd.DataFrame({'All_courses':All_courses,'Count': All_courses})"
   ]
  },
  {
   "cell_type": "code",
   "execution_count": 25,
   "metadata": {
    "colab": {},
    "colab_type": "code",
    "id": "Qsmrx4fql9Hv"
   },
   "outputs": [],
   "source": [
    "Defence_Exams_course =Defence_Exams_course.sort_values(by ='Count', ascending=False, inplace=False)\n",
    "Engineering_Recruitment_Exams_course = Engineering_Recruitment_Exams_course.sort_values(by ='Count', ascending=False, inplace=False)\n",
    "Insurance_Exams_course = Insurance_Exams_course.sort_values(by ='Count', ascending=False, inplace=False)\n",
    "Other_Govt_Exams_course = Other_Govt_Exams_course.sort_values(by ='Count', ascending=False, inplace=False)\n",
    "Police_Exams_course  = Police_Exams_course.sort_values(by ='Count', ascending=False, inplace=False)\n",
    "Professional_Skills_course= Professional_Skills_course.sort_values(by ='Count', ascending=False, inplace=False)\n",
    "Railways_Exams_course    = Railways_Exams_course.sort_values(by ='Count', ascending=False, inplace=False)\n",
    "SSC_Exams_course     = SSC_Exams_course.sort_values(by ='Count', ascending=False, inplace=False)\n",
    "State_Govt_Exams_course = State_Govt_Exams_course.sort_values(by ='Count', ascending=False, inplace=False)\n",
    "Teaching_Exams_course  = Teaching_Exams_course .sort_values(by ='Count', ascending=False, inplace=False)\n",
    "Banking_Exams_course = Banking_Exams_course.sort_values(by ='Count', ascending=False, inplace=False)\n",
    "\n"
   ]
  },
  {
   "cell_type": "code",
   "execution_count": 26,
   "metadata": {
    "colab": {},
    "colab_type": "code",
    "id": "i2VuUx38qBqL"
   },
   "outputs": [],
   "source": [
    "All_courses = All_courses.sort_values(by ='Count', ascending=False, inplace=False)"
   ]
  },
  {
   "cell_type": "code",
   "execution_count": 28,
   "metadata": {
    "colab": {
     "base_uri": "https://localhost:8080/",
     "height": 118
    },
    "colab_type": "code",
    "id": "PIkbE25snLuT",
    "outputId": "cd61188f-8611-434a-e857-28aeac9754bb"
   },
   "outputs": [
    {
     "name": "stdout",
     "output_type": "stream",
     "text": [
      "6e6dabfe6d4eaa2d15b4672e0d0fad5a\n",
      "The recommended courses are\n",
      "\n",
      "291f1a82bd52d4ce5147d6b2d5d19590\n"
     ]
    }
   ],
   "source": [
    "query=input()\n",
    "m=0\n",
    "Recommendation=[]\n",
    "for i in range(0,10000):\n",
    "  if course_enrollment[i]['studentIds']==query:\n",
    "     if course_enrollment[i]['enrolled_courses'] ==None:\n",
    "       m=[]\n",
    "     else:\n",
    "       m=course_enrollment[i]['enrolled_courses']\n",
    "if query in Banking_Exams:\n",
    "  index = Banking_Exams_course.index\n",
    "  number_of_rows = len(index)\n",
    "  for i in range(0,number_of_rows):\n",
    "    if Banking_Exams_course.iloc[i,0] not in m:\n",
    "      Recommendation.append(Banking_Exams_course.iloc[i,0])\n",
    "      break;\n",
    "if query in Defence_Exams:\n",
    "  index = Defence_Exams_course.index\n",
    "  number_of_rows = len(index)\n",
    "  for i in range(0,number_of_rows):\n",
    "    if Defence_Exams_course.iloc[i,0] not in m:\n",
    "      Recommendation.append(Defence_Exams_course.iloc[i,0])\n",
    "      break;\n",
    "if query in Engineering_Recruitment_Exams:\n",
    "  index = Engineering_Recruitment_Exams_course.index\n",
    "  number_of_rows = len(index)\n",
    "  for i in range(0,number_of_rows):\n",
    "    if Engineering_Recruitment_Exams_course.iloc[i,0] not in m:\n",
    "      Recommendation.append(Engineering_Recruitment_Exams_course.iloc[i,0])\n",
    "      break;\n",
    "if query in Insurance_Exams:\n",
    "  index = Insurance_Exams_course.index\n",
    "  number_of_rows = len(index)\n",
    "  for i in range(0,number_of_rows):\n",
    "    if Insurance_Exams_course.iloc[i,0] not in m:\n",
    "      Recommendation.append(Insurance_Exams_course.iloc[i,0])\n",
    "      break;\n",
    "if query in Police_Exams:\n",
    "  index = Police_Exams_course.index\n",
    "  number_of_rows = len(index)\n",
    "  for i in range(0,number_of_rows):\n",
    "    if Police_Exams_course.iloc[i,0] not in m:\n",
    "      Recommendation.append(Police_Exams_course.iloc[i,0])\n",
    "      break;\n",
    "if query in Professional_Skills:\n",
    "  index = Professional_Skills_course.index\n",
    "  number_of_rows = len(index)\n",
    "  for i in range(0,number_of_rows):\n",
    "    if Professional_Skills_course.iloc[i,0] not in m:\n",
    "      Recommendation.append(Professional_Skills_course.iloc[i,0])\n",
    "      break;\n",
    "if query in Railways_Exams:\n",
    "  index = Railways_Exams_course.index\n",
    "  number_of_rows = len(index)\n",
    "  for i in range(0,number_of_rows):\n",
    "    if Railways_Exams_course.iloc[i,0] not in m:\n",
    "      Recommendation.append(Railways_Exams_course.iloc[i,0])\n",
    "      break;\n",
    "if query in SSC_Exams:\n",
    "  index = SSC_Exams_course.index\n",
    "  number_of_rows = len(index)\n",
    "  for i in range(0,number_of_rows):\n",
    "    if SSC_Exams_course.iloc[i,0] not in m:\n",
    "      Recommendation.append(SSC_Exams_course.iloc[i,0])\n",
    "      break;\n",
    "if query in State_Govt_Exams:\n",
    "  index = State_Govt_Exams_course.index\n",
    "  number_of_rows = len(index)\n",
    "  for i in range(0,number_of_rows):\n",
    "    if State_Govt_Exams_course.iloc[i,0] not in m:\n",
    "      Recommendation.append(State_Govt_Exams_course.iloc[i,0])\n",
    "      break;\n",
    "if len(Recommendation)==0:\n",
    "  index = All_courses.index\n",
    "  number_of_rows = len(index)\n",
    "  for i in range(0,number_of_rows):\n",
    "    if All_courses.iloc[i,0] not in m:\n",
    "      Recommendation.append(All_courses.iloc[i,0])\n",
    "      break;\n",
    "\n",
    "\n",
    "print(\"The recommended courses are\\n\")\n",
    "for i in Recommendation:\n",
    "  print(i)\n",
    "\n"
   ]
  },
  {
   "cell_type": "code",
   "execution_count": null,
   "metadata": {
    "colab": {},
    "colab_type": "code",
    "id": "T7uhYzb3qKYA"
   },
   "outputs": [],
   "source": []
  }
 ],
 "metadata": {
  "colab": {
   "name": "Decipher_Course_Recommendation.ipynb",
   "provenance": []
  },
  "kernelspec": {
   "display_name": "Python 3",
   "language": "python",
   "name": "python3"
  },
  "language_info": {
   "codemirror_mode": {
    "name": "ipython",
    "version": 3
   },
   "file_extension": ".py",
   "mimetype": "text/x-python",
   "name": "python",
   "nbconvert_exporter": "python",
   "pygments_lexer": "ipython3",
   "version": "3.7.3"
  }
 },
 "nbformat": 4,
 "nbformat_minor": 1
}
